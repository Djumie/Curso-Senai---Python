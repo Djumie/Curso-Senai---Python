{
  "cells": [
    {
      "cell_type": "markdown",
      "metadata": {
        "id": "view-in-github",
        "colab_type": "text"
      },
      "source": [
        "<a href=\"https://colab.research.google.com/github/Djumie/Curso_Senai_Python/blob/main/Desafio3.ipynb\" target=\"_parent\"><img src=\"https://colab.research.google.com/assets/colab-badge.svg\" alt=\"Open In Colab\"/></a>"
      ]
    },
    {
      "cell_type": "markdown",
      "id": "75d8d2d9",
      "metadata": {
        "id": "75d8d2d9"
      },
      "source": [
        "# NÍVEL FÁCIL\n",
        "\n",
        "## 1. Desenvolva todos os exercícios verificando os dados lidos do teclado, não permitindo valores inválidos. Caso sejam inválidos, repita a leitura até que seja correta:\n",
        "\n",
        "### a. leia do teclado as dimensões de um retângulo (base e altura), calcular e escrever a área do retângulo. (Valores inválidos: 0 e números negativos)."
      ]
    },
    {
      "cell_type": "code",
      "execution_count": null,
      "id": "a0b56357",
      "metadata": {
        "id": "a0b56357",
        "outputId": "9575d143-0583-46f8-9b98-f0eac3442834"
      },
      "outputs": [
        {
          "name": "stdout",
          "output_type": "stream",
          "text": [
            "Digite o valor da base do retângulo: 10\n",
            "Agora digite a altura do triângulo: 5\n",
            "A ára do retângulo é de: 50\n"
          ]
        }
      ],
      "source": [
        "base = int(input(\"Digite o valor da base do retângulo: \"))\n",
        "altura = int(input(\"Agora digite a altura do triângulo: \"))\n",
        "try:\n",
        "    area = (base * altura)\n",
        "    print (\"A ára do retângulo é de:\", area)\n",
        "except ValueError:\n",
        "    print (\"Erro: Você tem que digitar um valor positivo\")\n",
        "except ZeroDivisionError:\n",
        "    print (\"Erro: não é possível uma dimensão igual a zero!\")"
      ]
    },
    {
      "cell_type": "markdown",
      "id": "04a34a23",
      "metadata": {
        "id": "04a34a23"
      },
      "source": [
        "### b. leia do teclado o número total de eleitores de um município, o número de votos brancos, nulos e válidos. Calcular e escrever o percentual que cada um representa em relação ao total de eleitores. (Valores inválidos: números negativos)."
      ]
    },
    {
      "cell_type": "code",
      "execution_count": null,
      "id": "f7feebef",
      "metadata": {
        "colab": {
          "base_uri": "https://localhost:8080/"
        },
        "id": "f7feebef",
        "outputId": "a40de7d3-9e6b-44de-a5eb-aa8f3a535f69"
      },
      "outputs": [
        {
          "output_type": "stream",
          "name": "stdout",
          "text": [
            "Digite o total de eleitores do município: 50\n",
            "Digite o total de votos brancos: 12\n",
            "Digite o total de votos nulos: 8\n",
            "Digite o total de votos válidos: 30\n",
            "\n",
            "Do total de eleitores:\n",
            "\n",
            "24.0 % foram votos brancos, totalizando 12 votos.\n",
            "16.0 % foram votos nulos, totalizando 8 votos.\n",
            "60.0 % foram votos válidos, totalizando 30 votos.\n"
          ]
        }
      ],
      "source": [
        "import sys\n",
        "try:\n",
        "    totalEleitores = int(input(\"Digite o total de eleitores do município: \"))\n",
        "except ValueError:\n",
        "    sys.exit(\"Erro: digite um valor inteiro e positivo!\")\n",
        "try:\n",
        "    totalBrancos = int(input(\"Digite o total de votos brancos: \"))\n",
        "    totalNulos = int(input(\"Digite o total de votos nulos: \"))\n",
        "    totalValidos = int(input(\"Digite o total de votos válidos: \"))\n",
        "except ValueError:\n",
        "    print(\"Erro: Números negativos são inválidos!\")\n",
        "soma = totalBrancos + totalNulos + totalValidos\n",
        "if soma == totalEleitores:\n",
        "    porcBrancos = (totalBrancos / totalEleitores) * 100\n",
        "    porcNulos = (totalNulos / totalEleitores) * 100\n",
        "    porcValidos = (totalValidos / totalEleitores) * 100\n",
        "    print(\"\\nDo total de eleitores:\\n\\n{} % foram votos brancos, totalizando {} votos.\".format(porcBrancos, totalBrancos))\n",
        "    print(\"{} % foram votos nulos, totalizando {} votos.\".format(porcNulos, totalNulos))\n",
        "    print(\"{} % foram votos válidos, totalizando {} votos.\".format(porcValidos, totalValidos))\n",
        "else:\n",
        "    print(\"Erro: A soma dos votos deve ser igual ao total de eleitores\")\n",
        "    "
      ]
    },
    {
      "cell_type": "markdown",
      "id": "35f53c7f",
      "metadata": {
        "id": "35f53c7f"
      },
      "source": [
        "### c. Leia 2 números e mostre o maior e o menor. (Valores inválidos: números menores que -99 e maiores que 99)."
      ]
    },
    {
      "cell_type": "code",
      "execution_count": null,
      "id": "ebb54647",
      "metadata": {
        "id": "ebb54647",
        "outputId": "47aa9b05-a759-4a4f-ad17-376af6dd67ae"
      },
      "outputs": [
        {
          "name": "stdout",
          "output_type": "stream",
          "text": [
            "Digite um número: 5\n",
            "Agora digite outro: 5\n",
            "Erro: os números são iguais!\n"
          ]
        }
      ],
      "source": [
        "num1 = int(input(\"Digite um número: \"))\n",
        "num2 = int(input(\"Agora digite outro: \"))\n",
        "if num1 > num2:\n",
        "    print (\"O número\", num1, \"é maior que o\", num2, \".\")\n",
        "elif num2 > num1:\n",
        "    print (\"O número\", num2, \"é maior que o\", num1, \".\")\n",
        "else:\n",
        "    print (\"Erro: os números são iguais!\")"
      ]
    },
    {
      "cell_type": "markdown",
      "id": "b89ede15",
      "metadata": {
        "id": "b89ede15"
      },
      "source": [
        "### d. leia do teclado uma temperatura em graus Celsius e mostre na tela o seu valor convertido em Kelvin. Lembrando que 0 grau Kelvin = -273,15 Celsius. Valores inválidos: números negativos).\n",
        "> *Professor, os negativos são inválidos apenas pra praticarmos essa questão né?*"
      ]
    },
    {
      "cell_type": "code",
      "execution_count": null,
      "id": "4b094061",
      "metadata": {
        "id": "4b094061",
        "outputId": "6e3ac341-742b-4320-cd58-fa934b1c759d"
      },
      "outputs": [
        {
          "name": "stdout",
          "output_type": "stream",
          "text": [
            "Digite a temperatura em graus Celsius: 50\n",
            "A temperatura de 50.0 °C é equivalente a 323.0 K.\n"
          ]
        }
      ],
      "source": [
        "celsius = float(input(\"Digite a temperatura em graus Celsius: \"))\n",
        "if celsius > 0:\n",
        "    kelvin = celsius + 273\n",
        "    print (\"A temperatura de\", celsius, \"°C é equivalente a\", kelvin, \"K.\")\n",
        "else:\n",
        "    print(\"Erro: números negativos são inválidos!\")"
      ]
    }
  ],
  "metadata": {
    "kernelspec": {
      "display_name": "Python 3 (ipykernel)",
      "language": "python",
      "name": "python3"
    },
    "language_info": {
      "codemirror_mode": {
        "name": "ipython",
        "version": 3
      },
      "file_extension": ".py",
      "mimetype": "text/x-python",
      "name": "python",
      "nbconvert_exporter": "python",
      "pygments_lexer": "ipython3",
      "version": "3.10.4"
    },
    "colab": {
      "name": "Desafio3.ipynb",
      "provenance": [],
      "collapsed_sections": [],
      "include_colab_link": true
    }
  },
  "nbformat": 4,
  "nbformat_minor": 5
}