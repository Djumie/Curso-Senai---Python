{
  "nbformat": 4,
  "nbformat_minor": 0,
  "metadata": {
    "colab": {
      "name": "Desafio2.ipynb",
      "provenance": [],
      "collapsed_sections": [],
      "authorship_tag": "ABX9TyOW8jnf3yHd7TQmFJ0tlT22",
      "include_colab_link": true
    },
    "kernelspec": {
      "name": "python3",
      "display_name": "Python 3"
    },
    "language_info": {
      "name": "python"
    }
  },
  "cells": [
    {
      "cell_type": "markdown",
      "metadata": {
        "id": "view-in-github",
        "colab_type": "text"
      },
      "source": [
        "<a href=\"https://colab.research.google.com/github/Djumie/Curso_Senai_Python/blob/main/Desafio2.ipynb\" target=\"_parent\"><img src=\"https://colab.research.google.com/assets/colab-badge.svg\" alt=\"Open In Colab\"/></a>"
      ]
    },
    {
      "cell_type": "markdown",
      "source": [
        "#NÍVEL FÁCIL\n",
        "\n",
        "1.\tElabore os códigos em Python dos problemas a seguir:\n",
        "  \n",
        "  a.\ttenha como entrada dois números e exiba a sua divisão. Lembre-se que não é possível dividir por 0!\n",
        "\n",
        "  b.\tLer uma nota de 0 à 10 de um aluno. Caso o usuário digite um valor inválido, mostrar a mensagem: \"Nota inválida! Digite um valor de 0 à 10!\"\n",
        "\n",
        "  c.\tleia um número e mostre se ele é positivo ou negativo ou zero.\n",
        "  \n",
        "  d.\tLer 3 valores e escrever o maior deles."
      ],
      "metadata": {
        "id": "h39TlauyFz-j"
      }
    },
    {
      "cell_type": "code",
      "source": [
        "# A\n",
        "try:\n",
        "  num1 = int(input('Por favor, digite um número: '))\n",
        "  num2 = int(input('Por favor, digite outro número: '))\n",
        "  divisao = num1/num2\n",
        "  print ('A divisão entre os números digitados é de: ', divisao)\n",
        "except ValueError:\n",
        "  print ('Erro: você não digitou um número')\n",
        "except ZeroDivisionError:\n",
        "  print ('Erro: não é possível dividir por zero')"
      ],
      "metadata": {
        "id": "SMi8mSCIFeMd"
      },
      "execution_count": null,
      "outputs": []
    },
    {
      "cell_type": "code",
      "source": [
        "# B\n",
        "nota = int(input('Digite a sua nota: '))\n",
        "if nota < 0 or nota > 10:\n",
        "  print ('Nota inválida! Digite um valor de 0 a 10!')\n",
        "else:\n",
        "  print ('Sua nota é: ',nota)"
      ],
      "metadata": {
        "colab": {
          "base_uri": "https://localhost:8080/"
        },
        "id": "4D9DEyueFgho",
        "outputId": "876229a0-6f3c-4935-bce8-67e8914dc168"
      },
      "execution_count": null,
      "outputs": [
        {
          "output_type": "stream",
          "name": "stdout",
          "text": [
            "Digite a sua nota: 15\n",
            "Nota inválida! Digite um valor de 0 a 10!\n"
          ]
        }
      ]
    },
    {
      "cell_type": "code",
      "source": [
        "# C\n",
        "try:\n",
        "  numero = int(input('Digite um número inteiro qualquer: '))\n",
        "  if numero > 0:\n",
        "    print ('Esse número é positivo')\n",
        "  elif numero < 0:\n",
        "    print ('Esse número é negativo')\n",
        "  elif numero == 0:\n",
        "    print ('Esse é o número zero')\n",
        "except ValueError:\n",
        "  print ('Erro: digite um número inteiro!')"
      ],
      "metadata": {
        "colab": {
          "base_uri": "https://localhost:8080/"
        },
        "id": "v3zUOUuYLXqQ",
        "outputId": "e59b94b1-c983-4a7b-a9c1-6120124a9fbd"
      },
      "execution_count": null,
      "outputs": [
        {
          "output_type": "stream",
          "name": "stdout",
          "text": [
            "Digite um número inteiro qualquer: n\n",
            "Erro: digite um número inteiro!\n"
          ]
        }
      ]
    },
    {
      "cell_type": "code",
      "source": [
        "# D\n",
        "try:\n",
        "  num1 = int(input('Digite um número: '))\n",
        "  num2 = int(input('Digite outro número: '))\n",
        "  num3 = int(input('Digite outro número: '))\n",
        "  if num1 > num2 and num1 > num3:\n",
        "    print('O maior número é ', num1)\n",
        "  elif num2 > num1 and num2 > num3:\n",
        "    print('O maior número é ', num2)\n",
        "  else:\n",
        "    print('O maior é o número ', num3)\n",
        "except ValueError:\n",
        "    print('Erro: digite um número válido!')"
      ],
      "metadata": {
        "colab": {
          "base_uri": "https://localhost:8080/"
        },
        "id": "OpQfOxPFM7S7",
        "outputId": "f3e558ac-4951-452d-8a18-1e36c9f70e8a"
      },
      "execution_count": null,
      "outputs": [
        {
          "output_type": "stream",
          "name": "stdout",
          "text": [
            "Digite um número: 15\n",
            "Digite outro número: 16\n",
            "Digite outro número: s\n",
            "Erro: digite um número válido!\n"
          ]
        }
      ]
    },
    {
      "cell_type": "markdown",
      "source": [
        "# NÍVEL MÉDIO\n",
        "2. Elabore os códigos em Python dos problemas a seguir:\n",
        "\n",
        "  a. As maçãs de um mercado custam 1,30 cada se forem compradas menos de uma dúzia, e 1,00 se forem compradas pelo menos 12. Escreva um programa que leia o número de maçãs compradas, calcule e escreva o custo total da compra.\n",
        "\n",
        "  b.\tLer as notas da 1ª e 2ª avaliações de um aluno. Calcular a média aritmética simples e escrever uma mensagem que diga se o aluno foi ou não aprovado (considerar que nota igual ou maior que 6 aluno é aprovado). Escrever também a média calculada.\n",
        "\n",
        "  c.\tA jornada de trabalho mensal de um funcionário na empresa X é de 160 horas. O funcionário que trabalhar mais de 160 horas receberá hora extra, cujo cálculo é o valor da hora regular com um acréscimo de 50%. Escreva um algoritmo que leia o número de horas trabalhadas em um mês, o salário por hora e escreva o salário total do funcionário, que deverá ser acrescido das horas extras, caso tenham sido trabalhadas."
      ],
      "metadata": {
        "id": "lDmvkBVAPvFP"
      }
    },
    {
      "cell_type": "code",
      "source": [
        "# A\n",
        "macas = int(input(\"Digite a quantidade de maças compradas: \"))\n",
        "if macas > 0 and macas < 12:\n",
        "  valor = macas * 1.30\n",
        "  print(\"O total deu R$ \", valor)\n",
        "elif macas >= 12:\n",
        "  valor = macas * 1.00\n",
        "  print(\"O total deu R$ \", valor)\n",
        "else:\n",
        "  print(\"Erro: quantidade inválida!\")"
      ],
      "metadata": {
        "id": "Lc5D6e50RzRe"
      },
      "execution_count": null,
      "outputs": []
    },
    {
      "cell_type": "code",
      "source": [
        "# B\n",
        "try:\n",
        "  nota1 = float(input(\"Digite a nota do 1º bimestre: \"))\n",
        "  nota2 = float(input(\"Digite a nota do 2º bimestre: \"))\n",
        "  media = (nota1+nota2)/2.0\n",
        "  if media >=6 and media <= 10:\n",
        "    print(\"Parabéns, você foi aprovado com média\", media)\n",
        "  elif media >=0 and media <6:\n",
        "    print(\"Infelizmente você foi reprovado com média\", media)\n",
        "  else:\n",
        "    print(\"Erro: Digite uma nota válida!\")\n",
        "except ValueError:\n",
        "  print(\"Erro: Digite uma nota válida!\")\n"
      ],
      "metadata": {
        "id": "d9f1FHqNTZXa"
      },
      "execution_count": null,
      "outputs": []
    },
    {
      "cell_type": "code",
      "source": [
        "# C\n",
        "horas = int(input(\"Digite o número de horas trabalhadas no mês: \"))\n",
        "salario_hora = float(input(\"Digite o valor da hora:\"))\n",
        "if horas > 160:\n",
        "  horas_extras = horas - 160\n",
        "  salario_hora_extra = salario_hora + salario_hora * 0.5\n",
        "  salario = 160 * salario_hora + horas_extras * salario_hora_extra\n",
        "  print(\"O salário total é de R$\",salario)\n",
        "else:\n",
        "  salario = horas*salario_hora\n",
        "  print(\"O salário total é de R$\", salario)"
      ],
      "metadata": {
        "id": "86vr_rBzWfRd"
      },
      "execution_count": null,
      "outputs": []
    },
    {
      "cell_type": "markdown",
      "source": [
        "# NÍVEL AVANÇADO\n",
        "\n",
        "3.\tElabore os códigos em Python dos problemas a seguir:\n",
        "\n",
        "  a.\tUm computador costuma apitar quando é ligado. Tais apitos são apitos de diagnóstico, indicando se há algum problema ou não. Se houver um problema, o apito é diferente. Para cada fabricante de BIOS, há uma codificação diferente. Veja a tabela a seguir de um modelo:\n",
        "\n",
        "    AMI BIOS Tone POST Codes\n",
        "    Apito\tCondição de Erro\n",
        "    1 curto\tAtualização de DRAM\n",
        "    2 curtos\tCircuito de Paridade\n",
        "    3 curtos\tMemória Base 64K RAM\n",
        "    4 curtos\tTimer do Sistema\n",
        "    5 curtos\tProcessador\n",
        "\n",
        "  Utilizando essa tabela, crie um programa que indique qual é o erro gerado para ajudar usuários. A entrada do programa é o número de apitos. De acordo com o número de apitos fornecido pelo usuário, mostre qual é o erro deste suposto computador.\n",
        "\n",
        "  b.\tleia uma nota de um aluno, de 0 à 10 e mostre na tela o seu conceito. Considere: \n",
        "  \n",
        "  nota\n",
        "  >= 9,0 -> Excelente\n",
        "  >= 7,0 e < 9,0 -> Bom\n",
        "  >= 5,0 e < 7,0 -> Razoável\n",
        "  < 5,0 -> Fraco\n",
        "\n",
        "  c.\tEscreva na tela “Boa Madrugada”, “Bom dia”, “Boa tarde” ou “Boa noite” dependendo da hora do dia que o usuário digitar no teclado. Caso a hora seja inválida mostre: “Erro. Hora inválida”. Opcional: mostre uma imagem diferente para cada alternativa.\n"
      ],
      "metadata": {
        "id": "ksjeJIW3WRXo"
      }
    },
    {
      "cell_type": "code",
      "source": [
        "# A\n",
        "apitos = int(input(\"Digite o número de apitos:\"))\n",
        "if apitos == 1:\n",
        "  print(\"Atualização de DRAM\")\n",
        "elif apitos == 2:\n",
        "  print(\"Circuito de Paridade\")\n",
        "elif apitos == 3:\n",
        "  print(\"Memória Base 64K RAM\")\n",
        "elif apitos == 4:\n",
        "  print(\"Timer do Sistema\")\n",
        "elif apitos == 5:\n",
        "  print(\"Processador\")\n",
        "else:\n",
        "  print(\"Erro desconhecido.\")"
      ],
      "metadata": {
        "id": "BsmjwbEcYBSj"
      },
      "execution_count": null,
      "outputs": []
    },
    {
      "cell_type": "code",
      "source": [
        "# B\n",
        "nota = float(input(\"Digite a nota do aluno: \"))\n",
        "if nota >= 9:\n",
        "  print(\"Excelente\")\n",
        "elif nota >= 7:\n",
        "  print(\"Bom\")\n",
        "elif nota >= 5:\n",
        "  print(\"Razoável\")\n",
        "else:\n",
        "  print(\"Fraco\")"
      ],
      "metadata": {
        "id": "aXjFMLgpbl3u"
      },
      "execution_count": null,
      "outputs": []
    },
    {
      "cell_type": "code",
      "source": [
        "# C\n",
        "from google.colab.patches import cv2_imshow\n",
        "import cv2\n",
        "hora = int(input(\"Digite a hora do dia: \"))\n",
        "if hora >= 0 and hora < 6:\n",
        "  print(\"Boa madrugada\")\n",
        "  caminho = \"/content/drive/MyDrive/Collab_Notebooks/boa_madrugada.png\"\n",
        "elif hora >= 6 and hora < 12:\n",
        "  print(\"Bom dia\")\n",
        "  caminho = \"/content/drive/MyDrive/MyDrive/Collab_Notebooks/bom_dia.png\"\n",
        "elif hora >= 12 and hora < 18:\n",
        "  print(\"Boa tarde\")\n",
        "  caminho = \"/content/drive/MyDrive/MyDrive/Collab_Notebooks/boa_tarde.jpg\"\n",
        "elif hora >= 18 and hora < 24:\n",
        "  print(\"Boa noite\")\n",
        "  caminho = \"/content/drive/MyDrive/MyDrive/Collab_Notebooks/boa_noite.png\"\n",
        "else:\n",
        "  print(\"hora inválida.\")\n",
        "  caminho = \"/content/drive/MyDrive/MyDrive/Collab_Notebooks/erro.jpg\"\n",
        "img = cv2.imread(caminho)\n",
        "cv2.imshow(img)"
      ],
      "metadata": {
        "colab": {
          "base_uri": "https://localhost:8080/",
          "height": 409
        },
        "id": "aZxLOJ1CbpVJ",
        "outputId": "6accf183-ffd6-4bb1-c2b0-f9f2185cbca7"
      },
      "execution_count": null,
      "outputs": [
        {
          "output_type": "stream",
          "name": "stdout",
          "text": [
            "Digite a hora do dia: 8\n",
            "Bom dia\n"
          ]
        },
        {
          "output_type": "error",
          "ename": "DisabledFunctionError",
          "evalue": "ignored",
          "traceback": [
            "\u001b[0;31m---------------------------------------------------------------------------\u001b[0m",
            "\u001b[0;31mDisabledFunctionError\u001b[0m                     Traceback (most recent call last)",
            "\u001b[0;32m<ipython-input-14-279b9ba68ac1>\u001b[0m in \u001b[0;36m<module>\u001b[0;34m()\u001b[0m\n\u001b[1;32m     19\u001b[0m   \u001b[0mcaminho\u001b[0m \u001b[0;34m=\u001b[0m \u001b[0;34m\"/content/drive/MyDrive/MyDrive/Collab_Notebooks/erro.jpg\"\u001b[0m\u001b[0;34m\u001b[0m\u001b[0;34m\u001b[0m\u001b[0m\n\u001b[1;32m     20\u001b[0m \u001b[0mimg\u001b[0m \u001b[0;34m=\u001b[0m \u001b[0mcv2\u001b[0m\u001b[0;34m.\u001b[0m\u001b[0mimread\u001b[0m\u001b[0;34m(\u001b[0m\u001b[0mcaminho\u001b[0m\u001b[0;34m)\u001b[0m\u001b[0;34m\u001b[0m\u001b[0;34m\u001b[0m\u001b[0m\n\u001b[0;32m---> 21\u001b[0;31m \u001b[0mcv2\u001b[0m\u001b[0;34m.\u001b[0m\u001b[0mimshow\u001b[0m\u001b[0;34m(\u001b[0m\u001b[0mimg\u001b[0m\u001b[0;34m)\u001b[0m\u001b[0;34m\u001b[0m\u001b[0;34m\u001b[0m\u001b[0m\n\u001b[0m",
            "\u001b[0;32m/usr/local/lib/python3.7/dist-packages/google/colab/_import_hooks/_cv2.py\u001b[0m in \u001b[0;36mwrapped\u001b[0;34m(*args, **kwargs)\u001b[0m\n\u001b[1;32m     50\u001b[0m   \u001b[0;32mdef\u001b[0m \u001b[0mwrapped\u001b[0m\u001b[0;34m(\u001b[0m\u001b[0;34m*\u001b[0m\u001b[0margs\u001b[0m\u001b[0;34m,\u001b[0m \u001b[0;34m**\u001b[0m\u001b[0mkwargs\u001b[0m\u001b[0;34m)\u001b[0m\u001b[0;34m:\u001b[0m\u001b[0;34m\u001b[0m\u001b[0;34m\u001b[0m\u001b[0m\n\u001b[1;32m     51\u001b[0m     \u001b[0;32mif\u001b[0m \u001b[0;32mnot\u001b[0m \u001b[0mos\u001b[0m\u001b[0;34m.\u001b[0m\u001b[0menviron\u001b[0m\u001b[0;34m.\u001b[0m\u001b[0mget\u001b[0m\u001b[0;34m(\u001b[0m\u001b[0menv_var\u001b[0m\u001b[0;34m,\u001b[0m \u001b[0;32mFalse\u001b[0m\u001b[0;34m)\u001b[0m\u001b[0;34m:\u001b[0m\u001b[0;34m\u001b[0m\u001b[0;34m\u001b[0m\u001b[0m\n\u001b[0;32m---> 52\u001b[0;31m       \u001b[0;32mraise\u001b[0m \u001b[0mDisabledFunctionError\u001b[0m\u001b[0;34m(\u001b[0m\u001b[0mmessage\u001b[0m\u001b[0;34m,\u001b[0m \u001b[0mname\u001b[0m \u001b[0;32mor\u001b[0m \u001b[0mfunc\u001b[0m\u001b[0;34m.\u001b[0m\u001b[0m__name__\u001b[0m\u001b[0;34m)\u001b[0m\u001b[0;34m\u001b[0m\u001b[0;34m\u001b[0m\u001b[0m\n\u001b[0m\u001b[1;32m     53\u001b[0m     \u001b[0;32mreturn\u001b[0m \u001b[0mfunc\u001b[0m\u001b[0;34m(\u001b[0m\u001b[0;34m*\u001b[0m\u001b[0margs\u001b[0m\u001b[0;34m,\u001b[0m \u001b[0;34m**\u001b[0m\u001b[0mkwargs\u001b[0m\u001b[0;34m)\u001b[0m\u001b[0;34m\u001b[0m\u001b[0;34m\u001b[0m\u001b[0m\n\u001b[1;32m     54\u001b[0m \u001b[0;34m\u001b[0m\u001b[0m\n",
            "\u001b[0;31mDisabledFunctionError\u001b[0m: cv2.imshow() is disabled in Colab, because it causes Jupyter sessions\nto crash; see https://github.com/jupyter/notebook/issues/3935.\nAs a substitution, consider using\n  from google.colab.patches import cv2_imshow\n"
          ],
          "errorDetails": {
            "actions": [
              {
                "action": "open_snippet",
                "actionText": "Search Snippets for cv2.imshow",
                "snippetFilter": "cv2.imshow"
              }
            ]
          }
        }
      ]
    }
  ]
}