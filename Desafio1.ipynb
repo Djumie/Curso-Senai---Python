{
  "nbformat": 4,
  "nbformat_minor": 0,
  "metadata": {
    "colab": {
      "name": "Desafio1.ipynb",
      "provenance": [],
      "collapsed_sections": [
        "RiM2-peLAxdA",
        "7JJv0WUTBdA0"
      ],
      "authorship_tag": "ABX9TyM9mJSLZ2OjfVqJ61spCGoO",
      "include_colab_link": true
    },
    "kernelspec": {
      "name": "python3",
      "display_name": "Python 3"
    },
    "language_info": {
      "name": "python"
    }
  },
  "cells": [
    {
      "cell_type": "markdown",
      "metadata": {
        "id": "view-in-github",
        "colab_type": "text"
      },
      "source": [
        "<a href=\"https://colab.research.google.com/github/Djumie/Curso_Senai_Python/blob/main/Desafio1.ipynb\" target=\"_parent\"><img src=\"https://colab.research.google.com/assets/colab-badge.svg\" alt=\"Open In Colab\"/></a>"
      ]
    },
    {
      "cell_type": "markdown",
      "source": [
        "# NÍVEL FÁCIL\n",
        "\n",
        "1.\tElabore os códigos em Python dos problemas a seguir:"
      ],
      "metadata": {
        "id": "RiM2-peLAxdA"
      }
    },
    {
      "cell_type": "code",
      "execution_count": null,
      "metadata": {
        "id": "Zra0WRoky6A5",
        "colab": {
          "base_uri": "https://localhost:8080/"
        },
        "outputId": "8731467d-0a3d-4793-90c7-af1bc7cc65a4"
      },
      "outputs": [
        {
          "output_type": "stream",
          "name": "stdout",
          "text": [
            "Soma de x e y é: 7\n",
            "Multiplicação de x e y é: 10\n",
            "O quadrado de x é: 25\n"
          ]
        }
      ],
      "source": [
        "x, y = 5, 2\n",
        "# a.\ttenha como entrada dois números e exiba a sua soma.\n",
        "print('Soma de x e y é:', x + y)\n",
        "# b.\ttenha como entrada dois números e exiba a sua multiplicação.\n",
        "print('Multiplicação de x e y é:', x * y)\n",
        "# c.\ttenha como entrada um número e exiba o seu quadrado.\n",
        "print('O quadrado de x é:', x ** y)"
      ]
    },
    {
      "cell_type": "markdown",
      "source": [
        "# NÍVEL INTERMEDIÁRIO\n",
        "\n",
        "2.\tElabore os códigos em Python dos problemas a seguir:"
      ],
      "metadata": {
        "id": "7JJv0WUTBdA0"
      }
    },
    {
      "cell_type": "code",
      "source": [
        "# a.\tMaçãs verdes custam R$ 12,20 por quilo. Cada uma pesa em torno de 130g. Faça um programa que tenha como entrada a quantidade de maçãs e mostre o valor em reais.\n",
        "preco = 12.20\n",
        "peso = 130\n",
        "quantidadeDeMaca  = int(input('Informe a quantidade de maçãs: '))\n",
        "pesoTotal = quantidadeDeMaca * peso\n",
        "valor = (pesoTotal / 1000) * preco\n",
        "mensagem = 'O preço do kilo da maçã é de R$ %.2f e o valor total de %d maçãs é de R$ %.2f' %(preco, quantidadeDeMaca, valor)\n",
        "print(mensagem)"
      ],
      "metadata": {
        "colab": {
          "base_uri": "https://localhost:8080/"
        },
        "id": "STKHPRWF1oXl",
        "outputId": "c987617d-8110-4068-d248-688ca52ddbfe"
      },
      "execution_count": null,
      "outputs": [
        {
          "output_type": "stream",
          "name": "stdout",
          "text": [
            "Informe a quantidade de maçãs: 5\n",
            "O preço do kilo da maçã é de R$ 12.20 e o valor total de 5 maçãs é de R$ 7.93\n"
          ]
        }
      ]
    },
    {
      "cell_type": "code",
      "source": [
        "# b.\tLer as notas da 1a. e 2a. avaliações de um aluno. Calcular a média aritmética simples e escrever a média calculada.\n",
        "nota1 = int(input('Digite a sua primeira nota: '))\n",
        "nota2 = int(input('Digite a sua segunda nota: '))\n",
        "media = (nota1 + nota2) / 2\n",
        "print('A sua média ficou em:', media)"
      ],
      "metadata": {
        "colab": {
          "base_uri": "https://localhost:8080/"
        },
        "id": "Q8ZKEko6AjwD",
        "outputId": "4181722c-3637-4bbc-edc0-19860fe2b620"
      },
      "execution_count": null,
      "outputs": [
        {
          "output_type": "stream",
          "name": "stdout",
          "text": [
            "Digite a sua primeira nota: 5\n",
            "Digite a sua segunda nota: 6\n",
            "A sua média ficou em: 5.5\n"
          ]
        }
      ]
    },
    {
      "cell_type": "code",
      "source": [
        "'''\n",
        "c.\tA jornada de trabalho semanal de um funcionário é de até 40 horas. Escreva um algoritmo que leia o número de horas trabalhadas em cada semana,\n",
        "o salário por hora e escreva o salário total do mês do funcionário (considere que o mês possua 4 semanas exatas).\n",
        "'''\n",
        "hora1 = int(input('Quantas horas foram trabalhadas na 1ª semana do mês? '))\n",
        "hora2 = int(input('Quantas horas foram trabalhadas na 2ª semana do mês? '))\n",
        "hora3 = int(input('Quantas horas foram trabalhadas na 3ª semana do mês? '))\n",
        "hora4 = int(input('Quantas horas foram trabalhadas na 4ª semana do mês? '))\n",
        "salarioHora = float(input('Qual é o seu salário semanal? '))\n",
        "total = (hora1 + hora2 + hora3 + hora4) * salarioHora\n",
        "print('Seu salário este mês é de R$ ', total)"
      ],
      "metadata": {
        "colab": {
          "base_uri": "https://localhost:8080/"
        },
        "id": "1xgb1pTYA2S6",
        "outputId": "eb6c8b61-96cd-4376-b9c8-d80672af7f1a"
      },
      "execution_count": null,
      "outputs": [
        {
          "output_type": "stream",
          "name": "stdout",
          "text": [
            "Quantas horas foram trabalhadas na 1ª semana do mês? 15\n",
            "Quantas horas foram trabalhadas na 2ª semana do mês? 6\n",
            "Quantas horas foram trabalhadas na 3ª semana do mês? 8\n",
            "Quantas horas foram trabalhadas na 4ª semana do mês? 10\n",
            "Qual é o seu salário semanal? 1500\n",
            "Seu salário este mês é de R$  58500.0\n"
          ]
        }
      ]
    },
    {
      "cell_type": "markdown",
      "source": [
        "# NÍVEL AVANÇADO\n",
        "\n",
        "3.\tElabore os códigos em Python dos problemas a seguir:"
      ],
      "metadata": {
        "id": "R-0YoRmfB5i1"
      }
    },
    {
      "cell_type": "markdown",
      "source": [
        "a.\tA medida de eficiência de um carro é medida em km/l (quantos km o carro anda com 1 litro de combustível).\n",
        "Faça um algoritmo que calcule a eficiência de um carro tendo como entrada a distância percorrida e a quantidade de combustível gasta em litros.\n",
        "Exemplo:\n",
        "distância percorrida = 300km\n",
        "quantidade gasta = 20 litros\n",
        "eficiência: 15km/l"
      ],
      "metadata": {
        "id": "MG1hjzDOIwVQ"
      }
    },
    {
      "cell_type": "code",
      "source": [
        "distancia = float(input(\"Qual distância percorrida em km? \"))\n",
        "combustivel = float(input(\"Qual a quantidade de combustível utilizada? \"))\n",
        "eficiencia = distancia / combustivel\n",
        "print(\"A eficiência do seu carro é de\", eficiencia, \" km/l.\")"
      ],
      "metadata": {
        "colab": {
          "base_uri": "https://localhost:8080/"
        },
        "id": "ZhpOw4ZuCB8F",
        "outputId": "3866abd8-f0fa-47dc-a6ab-37dd7d762a9d"
      },
      "execution_count": null,
      "outputs": [
        {
          "output_type": "stream",
          "name": "stdout",
          "text": [
            "Qual distância percorrida em km? 100\n",
            "Qual a quantidade de combustível utilizada? 10\n",
            "A eficiência do seu carro é de 10.0  km/l.\n"
          ]
        }
      ]
    },
    {
      "cell_type": "markdown",
      "source": [
        "b.\tAtualmente existem os carros flex, ou seja, podem ser abastecidos com etanol ou gasolina. Geralmente um carro flex abastecido a etanol tem uma eficiência menor do mesmo abastecido com gasolina. Faça um algoritmo que tendo como entrada: eficiência do carro abastecido à gasolina (em km/l), eficiência do carro abastecido com etanol (em km/l) , preço da gasolina por litro e preço do etanol por litro e mostre o valor do km rodado com cada um dos combustíveis.\n",
        "Exemplo:\n",
        "\n",
        "eficiência com gasolina: 15km/lp\n",
        "\n",
        "preço da gasolina: R$ 4,50 por litro\n",
        "\n",
        "valor do km rodado com gasolina: R$ 0,30\n",
        "\n",
        "eficiência com etanol: 10km/l\n",
        "\n",
        "preço do etanol: R$ 3,50 por litro\n",
        "\n",
        "valor do km rodado com etanol: R$ 0,35"
      ],
      "metadata": {
        "id": "vNYsXYzHIrGb"
      }
    },
    {
      "cell_type": "code",
      "source": [
        "eficienciaGasolina = int(input(\"Digite a eficiência do seu carro com gasolina: \"))\n",
        "eficienciaAlcool = int(input(\"Digite a eficiência do seu carro com álcool: \"))\n",
        "precoGasolina = float(input(\"Digite o preço da gasolina: \"))\n",
        "precoAlcool = float(input(\"Digite o preço do álcool:\"))\n",
        "#eficienciaGasolina, eficienciaAlcool = float(eficienciaGasolina, eficienciaAlcool)\n",
        "valorGasolina = precoGasolina / eficienciaGasolina\n",
        "valorAlcool = precoAlcool / eficienciaAlcool\n",
        "print(\"O Km rodado na gasolina é de R$\", valorGasolina, \"\\nO km rodado no álcool é de R$\", valorAlcool)"
      ],
      "metadata": {
        "colab": {
          "base_uri": "https://localhost:8080/"
        },
        "id": "60UkXjUJJS9x",
        "outputId": "3ab17d6b-7ccb-4a8f-f171-837c940ef228"
      },
      "execution_count": null,
      "outputs": [
        {
          "output_type": "stream",
          "name": "stdout",
          "text": [
            "Digite a eficiência do seu carro com gasolina: 15\n",
            "Digite a eficiência do seu carro com álcool: 12\n",
            "Digite o preço da gasolina: 6.5\n",
            "Digite o preço do álcool:5.8\n",
            "O Km rodado na gasolina é de R$ 0.43333333333333335 \n",
            "O km rodado no álcool é de R$ 0.48333333333333334\n"
          ]
        }
      ]
    },
    {
      "cell_type": "markdown",
      "source": [
        "c.\tUma empresa deseja cadastrar em seu banco de dados os nomes de candidatos à vagas de trabalho. Os nomes são recebidos dos usuários e é necessário adotar um padrão. Foi decidido que os nomes estariam todos em letras maiúsculas e sem espaços no início e no final. Também é desejado que o primeiro nome, nome do meio e sobrenome seja gravado de forma separada.\n",
        "\n",
        "Exemplo:\n",
        "\n",
        "Nome recebido: “José Antunes da Silva”\n",
        "\n",
        "Dados a serem gravados: \n",
        "\n",
        "Primeiro Nome: “José” \n",
        "\n",
        "Nome do meio: “Antunes da”\n",
        "\n",
        "Sobrenome: “Silva”\n"
      ],
      "metadata": {
        "id": "2MR7LzFuMT-P"
      }
    },
    {
      "cell_type": "code",
      "source": [
        "nomeCompleto = input(\"Digite o seu nome completo: \")\n",
        "nomeMaiusculo = nomeCompleto.upper()\n",
        "nomeSeparado = nomeMaiusculo.split()\n",
        "nomes = list(nomeSeparado)\n",
        "print(\"Primeiro Nome: \", nomes[0], \"\\nNome do Meio: \", nomes[1], \"\\nSobrenome: \", nomes[2])"
      ],
      "metadata": {
        "colab": {
          "base_uri": "https://localhost:8080/"
        },
        "id": "f_0mwsoGMdS6",
        "outputId": "cfbe1c5b-c628-4650-e0cd-e4ef2e0cb298"
      },
      "execution_count": null,
      "outputs": [
        {
          "output_type": "stream",
          "name": "stdout",
          "text": [
            "Digite o seu nome completo: João Henrique Queiroz\n",
            "Primeiro Nome:  JOÃO \n",
            "Nome do Meio:  HENRIQUE \n",
            "Sobrenome:  QUEIROZ\n"
          ]
        }
      ]
    }
  ]
}